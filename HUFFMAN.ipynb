{
 "cells": [
  {
   "cell_type": "code",
   "execution_count": 286,
   "id": "ecf29338",
   "metadata": {},
   "outputs": [
    {
     "data": {
      "text/plain": [
       "'kv8G54cOeA5w4MHa4ZG3AYoj8o7Wi51l2l8wpyX5ut21CoQ1zluIa9461o2zKd1ZZMTXuxgjNhxiq05apfyFv9R1lDHvt0yqz4D2RjipYQ0q00ILzeacn3t61I462YFyz9KY8IcJ54n5S7oi6oyy18Nlf1Ev02s1S0M68t0XdkD5qR5h8ZGhP1z4U8CObAhSDJw9y8gvi65915Sx8u1ErMhm2e1Iw9oV5VpM68OhC1HtVMjgmhktA3Ok3fvtmHOFPSumfAnfAYbS0q6zqf7fzzq187uF1SQ32o4FcaMUIG7M04duTOd04xA8u6ugqsb8K7il1KEktFB689t87ZZfB6XZ0joD0wg943qUKJZ9SttBSyrx8P09hhWxa6qa3RMA692O03qz5Sp7X80UJq6xXaPEpA00HrSWiA6xDo4GguPN0hapt8i2fS4j027W66AsmPrc85YsDrv2aS2sJ2LEqxLz9c0264IxJ88L35u49DuXje1V92W1fxy9s7g5r5DJb4TEhlr02Tn11h4iaCXsIrYpAIHmnd9fq75K1Nsx4dgW9CtTD1BZ88YT29ag5arJ8b09Zq16O32jh1wg66MyNpKr1Y3C528K511sSqWK37yu6NS0ekKmLV0Emjs5ay60H1Rpm19m6lzD9MQc8dcjBtH6qYm530H2R0sYm8XOdVl25Yt8U0L8tI77H8Z29A5kuzg37r0K5M4LxSPRHBs4cLI0ABqjhIC0SFx36wHqWQk8d099Ti2x3bA363Z3ttEPe73xTTa1933q9MuB9SSzg1xWX0fTjp7851pczSkMc5zct51J8f7lqa13LOH57s81fjrGv1Vjrqj62x70265332705tmc7Fq3QnDgVt92RsFiS85hED64vm0X33Un33bT5V41L6Knc9IWOW82F3pBMt7486R5ZMGxU0uU0taa99iM7wIi0YDOjcrVlidE9Fpcb1F5k3HQqwP0G4WS740ADmE09zEw9d3xg74dN00xs3i39LMrr653xN4IiZOI6qa2lbMU08v0lx6Am9cd9kzK7xaK72xhM5DRBFqTY1kKZCCDMA78KdYf9id136ijp1G9lhuzI9sIh8c8ENFxR41l7bXLrLyrkEX2LxAAo77gI67q8zfRQuDpR4uhlW3QM7f9CGehZAl3U9wFyY6WOGQEdK9XSoa07iTry11Dxwe02Xt70qkCIa158dOcDshm99aPjNLi11uuTzb4oqcS6JSrt88yA3wrp1L949kyVEC6O3w7x3iAr0xVGCZG07vRI3qP0i25m66M0F9j67FChysXO7N8Ej2mm865I2KD34L3y4ZBL5SuDMydfzokZvh540xYtZW4Jr7KqM34P567997LIolUZXKSB4NP4n7bu76sNL8r8Oz42HE4JPVW14jtAytF8684Qc92bdjRs89Re04BuMz4NnBxjm3B2iqv3WxwL05RR8MiVfXij4WgC068FHa530RS154473PnKX12s0IYfMAf3YKe'"
      ]
     },
     "execution_count": 286,
     "metadata": {},
     "output_type": "execute_result"
    }
   ],
   "source": [
    "import numpy as np\n",
    "import os\n",
    "import random\n",
    "import string\n",
    "## how to generate random text\n",
    "import random \n",
    "import string \n",
    "def random_string(letter_count, digit_count):  \n",
    "    str1 = ''.join((random.choice(string.ascii_letters) for x in range(letter_count)))  \n",
    "    str1 += ''.join((random.choice(string.digits) for x in range(digit_count)))  \n",
    "  \n",
    "    sam_list = list(str1) # it converts the string to list.  \n",
    "    random.shuffle(sam_list) # It uses a random.shuffle() function to shuffle the string.  \n",
    "    final_string = ''.join(sam_list)  \n",
    "    return final_string  \n",
    "  \n",
    " \n",
    "file = open(\"huffmantext.txt\",\"w\")\n",
    "file.write(random_string(1000,500))\n",
    "file.close()\n",
    "file = open(\"huffmantext.txt\",\"r\")\n",
    "\n",
    "\n",
    "\n",
    "#H = open(\"C:/Users/91709/OneDrive/Desktop/huf.txt\",\"r+\")\n",
    "my_Text = file.read()\n",
    "my_Text\n",
    "os.path.getsize(\"C:/Users/91709/huffmantext.txt\")\n",
    "my_Text"
   ]
  },
  {
   "cell_type": "code",
   "execution_count": 287,
   "id": "d1004234",
   "metadata": {},
   "outputs": [
    {
     "name": "stdout",
     "output_type": "stream",
     "text": [
      "1500.0\n"
     ]
    },
    {
     "data": {
      "text/plain": [
       "(['0',\n",
       "  '1',\n",
       "  '2',\n",
       "  '3',\n",
       "  '4',\n",
       "  '5',\n",
       "  '6',\n",
       "  '7',\n",
       "  '8',\n",
       "  '9',\n",
       "  'A',\n",
       "  'B',\n",
       "  'C',\n",
       "  'D',\n",
       "  'E',\n",
       "  'F',\n",
       "  'G',\n",
       "  'H',\n",
       "  'I',\n",
       "  'J',\n",
       "  'K',\n",
       "  'L',\n",
       "  'M',\n",
       "  'N',\n",
       "  'O',\n",
       "  'P',\n",
       "  'Q',\n",
       "  'R',\n",
       "  'S',\n",
       "  'T',\n",
       "  'U',\n",
       "  'V',\n",
       "  'W',\n",
       "  'X',\n",
       "  'Y',\n",
       "  'Z',\n",
       "  'a',\n",
       "  'b',\n",
       "  'c',\n",
       "  'd',\n",
       "  'e',\n",
       "  'f',\n",
       "  'g',\n",
       "  'h',\n",
       "  'i',\n",
       "  'j',\n",
       "  'k',\n",
       "  'l',\n",
       "  'm',\n",
       "  'n',\n",
       "  'o',\n",
       "  'p',\n",
       "  'q',\n",
       "  'r',\n",
       "  's',\n",
       "  't',\n",
       "  'u',\n",
       "  'v',\n",
       "  'w',\n",
       "  'x',\n",
       "  'y',\n",
       "  'z'],\n",
       " [0.04,\n",
       "  0.035333333333333335,\n",
       "  0.02666666666666667,\n",
       "  0.034,\n",
       "  0.032,\n",
       "  0.03133333333333333,\n",
       "  0.032,\n",
       "  0.030666666666666665,\n",
       "  0.03666666666666667,\n",
       "  0.034666666666666665,\n",
       "  0.016666666666666666,\n",
       "  0.01,\n",
       "  0.01,\n",
       "  0.014666666666666666,\n",
       "  0.012,\n",
       "  0.012666666666666666,\n",
       "  0.008666666666666666,\n",
       "  0.010666666666666666,\n",
       "  0.016,\n",
       "  0.008,\n",
       "  0.014666666666666666,\n",
       "  0.014,\n",
       "  0.018666666666666668,\n",
       "  0.009333333333333334,\n",
       "  0.012,\n",
       "  0.01,\n",
       "  0.007333333333333333,\n",
       "  0.012666666666666666,\n",
       "  0.018666666666666668,\n",
       "  0.009333333333333334,\n",
       "  0.007333333333333333,\n",
       "  0.009333333333333334,\n",
       "  0.012,\n",
       "  0.012666666666666666,\n",
       "  0.012666666666666666,\n",
       "  0.014,\n",
       "  0.016,\n",
       "  0.008666666666666666,\n",
       "  0.014,\n",
       "  0.012666666666666666,\n",
       "  0.006666666666666667,\n",
       "  0.014,\n",
       "  0.010666666666666666,\n",
       "  0.015333333333333332,\n",
       "  0.016666666666666666,\n",
       "  0.016,\n",
       "  0.010666666666666666,\n",
       "  0.012,\n",
       "  0.014,\n",
       "  0.007333333333333333,\n",
       "  0.01,\n",
       "  0.011333333333333334,\n",
       "  0.021333333333333333,\n",
       "  0.016,\n",
       "  0.014,\n",
       "  0.018666666666666668,\n",
       "  0.016,\n",
       "  0.008666666666666666,\n",
       "  0.01,\n",
       "  0.022,\n",
       "  0.014,\n",
       "  0.016])"
      ]
     },
     "execution_count": 287,
     "metadata": {},
     "output_type": "execute_result"
    }
   ],
   "source": [
    "### function for probability and character list\n",
    "def list_prob(x) :\n",
    "    prob =[]\n",
    "    charac = []\n",
    "    z = np.zeros([91])\n",
    "    for i in x  :\n",
    "        z[ord(i)-32] += 1\n",
    "    print(sum(z))\n",
    "    for i in range(len(z)) :\n",
    "        if z[i] > 0 :\n",
    "            charac.append(chr(i+32))\n",
    "            prob.append(z[i])\n",
    "    prob = prob/sum(prob)\n",
    "    return list(prob),charac\n",
    "    \n",
    "x,y = list_prob(my_Text)   \n",
    "y,x\n",
    "        \n",
    "   "
   ]
  },
  {
   "cell_type": "code",
   "execution_count": 288,
   "id": "cf24afc4",
   "metadata": {},
   "outputs": [],
   "source": [
    "#### creation of tree \n",
    "class Node :\n",
    "    def __init__(self,data) :\n",
    "        self.data = data\n",
    "        self.left = None\n",
    "        self.right =None\n",
    "        \n",
    "    def insert(self,data)   :\n",
    "        if data < self.data :\n",
    "            if self.left :\n",
    "                self.left.insert(data)\n",
    "            else :\n",
    "                self.data = Node(data)\n",
    "                return\n",
    "        else :\n",
    "            if self.right :\n",
    "                self.right.insert(data)\n",
    "            else :\n",
    "                self.right = Node(data)\n",
    "                return\n",
    "                \n",
    "##### min of the list \n",
    "def mini(x) :\n",
    "    z = x[0]\n",
    "    k = 0\n",
    "    for i in range(len(x)) :\n",
    "        if  x[i] < z :\n",
    "            z = x[i]\n",
    "            k = i\n",
    "            \n",
    "    return k        \n",
    "        \n",
    "                \n",
    "                \n",
    "                \n",
    "                \n",
    "        \n",
    "          "
   ]
  },
  {
   "cell_type": "code",
   "execution_count": 289,
   "id": "70fdba48",
   "metadata": {},
   "outputs": [],
   "source": [
    "######### creation of heap \n",
    "def c_heap(charac,prob) :\n",
    "    nodes = []\n",
    "    for i in range(len(prob)) :\n",
    "        nodes.append(Node(charac[i]))\n",
    "        \n",
    "    while(sum(prob) < len(prob))  :\n",
    "        a = mini(prob)\n",
    "        A = prob[a]\n",
    "        X = nodes[a]\n",
    "        prob[a] = 1\n",
    "        b = mini(prob)\n",
    "        B = prob[b]\n",
    "        Y = nodes[b]\n",
    "        prob[b] = 1\n",
    "        Z = Node(A+B)\n",
    "        if A < B :\n",
    "            Z.left = X \n",
    "            Z.right = Y \n",
    "        else :\n",
    "            Z.left = Y\n",
    "            Z.right = X\n",
    "        prob.append(A + B)\n",
    "        nodes.append(Z)\n",
    "        \n",
    "    h = len(prob) \n",
    "    print(h)\n",
    "    R = nodes[h-1]\n",
    "    return R\n",
    "        \n",
    "        "
   ]
  },
  {
   "cell_type": "code",
   "execution_count": 290,
   "id": "6c9f8355",
   "metadata": {},
   "outputs": [
    {
     "name": "stdout",
     "output_type": "stream",
     "text": [
      "123\n"
     ]
    },
    {
     "data": {
      "text/plain": [
       "1.0"
      ]
     },
     "execution_count": 290,
     "metadata": {},
     "output_type": "execute_result"
    }
   ],
   "source": [
    "Q = c_heap(y,x)\n",
    "Q.data"
   ]
  },
  {
   "cell_type": "code",
   "execution_count": 291,
   "id": "eb9ef830",
   "metadata": {},
   "outputs": [],
   "source": [
    "#### tree traversal \n",
    "def tree_trav(x) :\n",
    "    if x is not None :\n",
    "        tree_trav(x.left)\n",
    "        tree_trav(x.right)\n",
    "        if x.left == None and x.right == None :\n",
    "            print(x.data)\n"
   ]
  },
  {
   "cell_type": "code",
   "execution_count": 292,
   "id": "27167341",
   "metadata": {},
   "outputs": [
    {
     "name": "stdout",
     "output_type": "stream",
     "text": [
      "k\n",
      "p\n",
      "x\n",
      "l\n",
      "W\n",
      "O\n",
      "E\n",
      "Y\n",
      "X\n",
      "R\n",
      "F\n",
      "d\n",
      "L\n",
      "2\n",
      "m\n",
      "f\n",
      "c\n",
      "Z\n",
      "y\n",
      "s\n",
      "e\n",
      "Q\n",
      "D\n",
      "n\n",
      "U\n",
      "K\n",
      "7\n",
      "h\n",
      "I\n",
      "5\n",
      "u\n",
      "r\n",
      "j\n",
      "a\n",
      "6\n",
      "4\n",
      "z\n",
      "A\n",
      "J\n",
      "G\n",
      "i\n",
      "3\n",
      "9\n",
      "1\n",
      "v\n",
      "b\n",
      "M\n",
      "8\n",
      "t\n",
      "S\n",
      "T\n",
      "N\n",
      "V\n",
      "B\n",
      "0\n",
      "w\n",
      "o\n",
      "P\n",
      "C\n",
      "g\n",
      "H\n",
      "q\n"
     ]
    }
   ],
   "source": [
    "tree_trav(Q)"
   ]
  },
  {
   "cell_type": "code",
   "execution_count": 293,
   "id": "563bbf02",
   "metadata": {},
   "outputs": [],
   "source": [
    "###### code generation \n",
    "def code_bookgen(x) :\n",
    "    y  = \"\"\n",
    "    key_ = []\n",
    "    code_ = []\n",
    "    \n",
    "    \n",
    "    def pro(r,j) :\n",
    "        p = j\n",
    "        if r.left is not None :\n",
    "            l = p + str(0)\n",
    "            pro(r.left,l)\n",
    "        if r.right is not None :\n",
    "            k = p + str(1)\n",
    "            pro(r.right,k)\n",
    "        if r.left == None and r.right == None :\n",
    "            key_.append(r.data)\n",
    "            code_.append(p)\n",
    "            \n",
    "    pro(x,y)       \n",
    "    return key_,code_   \n",
    "    \n",
    "    "
   ]
  },
  {
   "cell_type": "code",
   "execution_count": 295,
   "id": "d0b8ad17",
   "metadata": {},
   "outputs": [
    {
     "data": {
      "text/plain": [
       "'######kpx##lW#OE###YX#RF##dL2####mf#cZ##ys##eQD####nUK7##hI5#####ur#ja#64###zA##JGi#39###1##vbM#8#tS####TN#VB0###wo#PC##gHq'"
      ]
     },
     "execution_count": 295,
     "metadata": {},
     "output_type": "execute_result"
    }
   ],
   "source": [
    "### testing the code generation\n",
    "key,code = code_bookgen(Q)\n",
    "key,code\n",
    "### tree recreation string\n",
    "def tree_short(root) :\n",
    "    short_string = []\n",
    "    def trav(j) :\n",
    "        if j is not None :\n",
    "            if j.left == None and j.right == None :\n",
    "                short_string.append(j.data)\n",
    "            else :\n",
    "                short_string.append('#')\n",
    "            \n",
    "            trav(j.left)\n",
    "            trav(j.right)\n",
    "    trav(root)  \n",
    "    string = ''\n",
    "    for i in short_string :\n",
    "        string += i\n",
    "                \n",
    "    return string   \n",
    "string_ = tree_short(Q)\n",
    "string_\n",
    "\n"
   ]
  },
  {
   "cell_type": "code",
   "execution_count": 296,
   "id": "f3b8aa31",
   "metadata": {},
   "outputs": [],
   "source": [
    "#### tree creation\n",
    "def tree_create(code) :\n",
    "    root = Node(1)\n",
    "    j = root\n",
    "    for i in  code :\n",
    "        if i == '0'  :\n",
    "            if j.left is None :\n",
    "                k = Node(1)\n",
    "                j.left = k\n",
    "                j = j.left\n",
    "            else :\n",
    "                j = j.left\n",
    "        elif i == '1':\n",
    "            if j.right is None :\n",
    "                k = Node(1)\n",
    "                j.right = k\n",
    "                j = j.right\n",
    "            else :\n",
    "                j = j.right\n",
    "        else :\n",
    "            if i != '#' and i != '$' :\n",
    "                \n",
    "                j.data = i \n",
    "                j = root \n",
    "            else :\n",
    "                if i == '#' :\n",
    "                    j.data = '0' \n",
    "                    j = root \n",
    "                if i == '$' :\n",
    "                    j.data = '1'\n",
    "                    j = root\n",
    "    return root         "
   ]
  },
  {
   "cell_type": "code",
   "execution_count": 297,
   "id": "cd62882c",
   "metadata": {},
   "outputs": [],
   "source": [
    "c = tree_create(string_)\n"
   ]
  },
  {
   "cell_type": "code",
   "execution_count": 298,
   "id": "8c679798",
   "metadata": {},
   "outputs": [],
   "source": [
    "###### conversion of file to code \n",
    "#\n",
    "def convert_code(text,key,code) :\n",
    "    \n",
    "    J ={} \n",
    "    converted_code = \"\"\n",
    "    for i in range(len(key)) :\n",
    "        \n",
    "        J[key[i]] = code[i]\n",
    "        print(key[i] + \"    :    \"+ code[i])\n",
    "    for i in range(len(text)) :\n",
    "        converted_code += J[text[i]]\n",
    "    return converted_code    \n",
    "        \n",
    "        \n",
    "    \n",
    "    \n",
    "    \n"
   ]
  },
  {
   "cell_type": "code",
   "execution_count": 299,
   "id": "d188abde",
   "metadata": {},
   "outputs": [
    {
     "name": "stdout",
     "output_type": "stream",
     "text": [
      "k    :    000000\n",
      "p    :    000001\n",
      "x    :    00001\n",
      "l    :    000100\n",
      "W    :    000101\n",
      "O    :    000110\n",
      "E    :    000111\n",
      "Y    :    001000\n",
      "X    :    001001\n",
      "R    :    001010\n",
      "F    :    001011\n",
      "d    :    001100\n",
      "L    :    001101\n",
      "2    :    00111\n",
      "m    :    010000\n",
      "f    :    010001\n",
      "c    :    010010\n",
      "Z    :    010011\n",
      "y    :    010100\n",
      "s    :    010101\n",
      "e    :    0101100\n",
      "Q    :    0101101\n",
      "D    :    010111\n",
      "n    :    0110000\n",
      "U    :    0110001\n",
      "K    :    011001\n",
      "7    :    01101\n",
      "h    :    011100\n",
      "I    :    011101\n",
      "5    :    01111\n",
      "u    :    100000\n",
      "r    :    100001\n",
      "j    :    100010\n",
      "a    :    100011\n",
      "6    :    10010\n",
      "4    :    10011\n",
      "z    :    101000\n",
      "A    :    101001\n",
      "J    :    1010100\n",
      "G    :    1010101\n",
      "i    :    101011\n",
      "3    :    10110\n",
      "9    :    10111\n",
      "1    :    11000\n",
      "v    :    1100100\n",
      "b    :    1100101\n",
      "M    :    110011\n",
      "8    :    11010\n",
      "t    :    110110\n",
      "S    :    110111\n",
      "T    :    1110000\n",
      "N    :    1110001\n",
      "V    :    1110010\n",
      "B    :    1110011\n",
      "0    :    11101\n",
      "w    :    1111000\n",
      "o    :    1111001\n",
      "P    :    1111010\n",
      "C    :    1111011\n",
      "g    :    1111100\n",
      "H    :    1111101\n",
      "q    :    111111\n"
     ]
    },
    {
     "data": {
      "text/plain": [
       "'0000001100100110101010101011111001101001000011001011001010010111111110001001111001111111011000111001101001110101011011010100100100011110011000101101011110010110100010110101101111110000001000011100010011010111100000000101010000100101111100000110110001111100011110111111001010110111000101000000100100000011101100011101111001110010110001111001001111010000110010011001100001001101001111001111100000010011000000000111111001000101110001011100000011010111111111110101111100011000001010001010100001011110010010111001010110000001000101111111101110010011011011101010100111111101000100110101110011100101010001010101100000100100001011011110111111111101111010111010011011010000101100100011010010011000010110110110100101100001110110011100100011100100000101101010010100010111011001001000110100111010100101010100011111001101100000111111011101101111100110101110010111100101010001010011000110101110001000100010001110000001111100100111010011101010111000110111111011100111001011010110110111010010010011000000000101110111111111100101001111011100110100100111010101011100111101011000101000100110110001110101111011000110110010110100101110011011101011110101001111000101110101001101011111001100100101011100100111110111110000111111011100001110101000001100000011110000111001101110001000000111010110011000011101111100010111111100111100100111111100100000011100111001011010000110011100111101111000111110111011011100101100111000101111100010000011100000000110110101001101100001100000001011001000111001001101100100001111101000110001011111101011011110000001000001000110100101100000100011010010010001100101110111111011111111001010100011111101000101101010001101000101000111111110001101001101100000001011110001101110101101101100011111110011001100101101001010001111001101100010111011010101011011100111110110011001100100000111000000011000110011101100110000110100111010100000100101000001111100111111010101110010111010011001011011010110001001100001100100011100000011011000101111100111001011010101111101101101001101010011010011010001111001110010001001010011111011000101111001010111111011111000111110010111100111011011111101100010110011010100010011101111101111101101101101110011110111010100100001000011101011110101110110111011100011100000101000011000111001011111110001110110001010110011101001100101011100111000110111011011011111110100001111110111000001011010010011101011101011000110101001111111001000001001001100011111101000011100000110100111101111011111101100001110111000101101011101001100100000101011111110011001110101011111100100000111101011100011110101110010001100000111011011010101011001110100011101111001110001011101001110110100010110010100101010010101010100001111010100001010010110100111100100001010101011110000111001000011110001111011100111010101101010000111001101000111111111000010011011010001011101001011101001111001010011011101000011010100110101101000110110110011111000001001110111010111100000001001100010010110011000111001010111001110001011100001000100001010100101110101010110111111000111110000101111010111101010011001011001111100000001110111000001001000011110100111111000001100001100011000011100100111010111000111111011001001010101011101100001001000000001101001011101111110101000001100000011001011101000111111101101011110110011100011100010101010000110011001100111110000010110111111101111011011100000101111100011100110100111101011010001000111000000111101111000111111100011111000111000011010100110101100101111011011101001111111111000100100001101011000111100010011100110001111000111110010010100101100110101001110001000001011001100001110000010001011011110110111100111110100110010111111000110000101011101111111110001010110011011001101010100100000100101110001110111111010101100000000011001010000001101111001011101000111010000100010010101011111000110101001001011101111110111000001010000001010000110001011101000010010000100101000010111101111100110101101010010110100011000100101000101110011110110111110110010111111001000010000011111011011101111110100111001010111010101010010000100001101000100100011000110011100100001000011101111001000110110110100110001111010011011101011011001110101101011011111101110100100110011110111101001011110000001000001010001111100101100110110000111101011001011111100111001100110100001110111111101000101011111011110011010101100110100100011010111011110110100111100111111111000100111000111011111011111011101110010110000110110100101111000111110111111100010101011010000001101000110011101101111011111100001010110011100001101101100101101001101101001010110010011101101101101101100001111111010010110001101101100000111100001110000100011110001011110110101101111111011111001110000011100111011111011111011110100011111001100000001000101001001111010100011110000100010000001011011101001111110000000010100101010001101110000001100110100100111110100001001011011001111110001010100110100100010110100010011111110001111000101100011010001101111101011110110101010111010110000100011000101000011010101110010011000111001010001010000111111110001010010001110000101101111010011110010011111011010110001110110111101011111101100100000100100110100101111111110110010110101100000101111111100111001011011010111001110010100101010010111010111101111101001111011100000111010111100101001111001000100001110100100110110101100110001011000010110101101100101111000001111111001010011110000011011001001100101100000100101011101110100010100011000010111010001110010111011000000111100111100111101100110110011110101001000101001111010011110011101010100001011000111101100000011000111101110110100011100011101111011110101111001101101111100001110110101111101001000010111000110100010010010100001111001000010010101100110000011110111001011000001010010110010111000001011011110000001011011111010101101111111111100011110101110110101011001100010111011101101100111110110100101011101000000011111101101111010000001111111000101110011001011000001111110001101100110011001110001111011110100001010101101101010111011010111001101110011100001100001100100111110110000011110001100110111011010110100110001100111011001011111110001100111000100110010111001101100011110111010110010011101000100000011001010100101000010111010010001100101110000001010000110010110100001100011011001011010011100001011100110011011110101110010101110011001011111111111000000100011000000000011001010011111101111110110101111100111010010110111010011001001100001000010001101111010110011001100010110100101010111000100000011100010101011011100010001110010000010100001110110111010101011101011100110100100101101000011111100010010110000100101010011110000001000110111001010010010011011000010011010101001000010000000001110010010011100110100001101001101001111100101101011011111100011101100100110111111111010101000010001001010010110110000001011100000100101010011100000011100000100000101101100101101110011011010100011011111110111010101010110001110001001110100100010010110011000110111111100000101101010000100010010000101000110101010101011010001110011000110011011100100111011111110011000111110101101101011111000010000101010011000110000101110000111110000101100111010011100100111011001101111011111110000001111011011101100011110000111111010001100000110010010010111010101011100010000101111011110001111110101000101110001001101101011110001100010000010000011100001010001100101100111111001111111010010110111100101010100110111100001110110110101101001010010100110110111100010000100000111000001101101111001110111000000010100111001000011111110111001000011010110111100001101000011011010101110100110000111101000011110010101010111110110100111010101111010110111001000010100111011011011111111110101110110101100111011110100001001010010110011111010010111011110001010010011010010111111011011100010100010101001001000110011011110001110100001111000100011101000001000011010100100111101110100111011001010111101101001100110110110010100100110100111110011001101011111101111000000101111100110101000011000100011010001111001000000010011110010001110001111100111110100001001000110110010011000101100111010100100001011010110011111111100111011010011111101001111100100110110111101110110100110101110111110010001000110001010011001001011001110111111001110011111000111110101001101100000110111001011000000110110010010101111000100110111010100001110100001101010001001100111111110100011110011101010011110101110010000101110001001110001011011010100101010011011000101111010100101101010011010110101001010111001111100101001100100010001010010101110101011100101001011001110110011111001110000011001110100010011111000101100001110011000011000100100001011011100110011110101111111111001001011000010100001111100000110111101011110010100010101101011001110101111100100100010010011010111000101001100010111111001111011111011001011010001011111110110001101111101101110100101011011111000011111001110011011011011011110100110000011001001001110000011101010111101011101001000010001110011101001010001101100010000110010101100'"
      ]
     },
     "execution_count": 299,
     "metadata": {},
     "output_type": "execute_result"
    }
   ],
   "source": [
    "ccode = convert_code(my_Text,key,code)\n",
    "ccode\n"
   ]
  },
  {
   "cell_type": "code",
   "execution_count": 300,
   "id": "adb61c41",
   "metadata": {},
   "outputs": [],
   "source": [
    "###### information generation from code\n",
    "def inf_from_code(code,rootnode) :\n",
    "    info =\"\"\n",
    "    root = rootnode\n",
    "    for i in range(len(code)) :\n",
    "          \n",
    "        \n",
    "        if code[i] == \"0\" :\n",
    "            root = root.left\n",
    "        else :\n",
    "            root = root.right\n",
    "        if root.left == None and root.right == None :\n",
    "            info += root.data\n",
    "            root = rootnode    \n",
    "    return info        \n",
    "            "
   ]
  },
  {
   "cell_type": "code",
   "execution_count": 310,
   "id": "eabd25b1",
   "metadata": {},
   "outputs": [
    {
     "data": {
      "text/plain": [
       "'kv8G54cOeA5w4MHa4ZG3AYoj8o7Wi51l2l8wpyX5ut21CoQ1zluIa9461o2zKd1ZZMTXuxgjNhxiq05apfyFv9R1lDHvt0yqz4D2RjipYQ0q00ILzeacn3t61I462YFyz9KY8IcJ54n5S7oi6oyy18Nlf1Ev02s1S0M68t0XdkD5qR5h8ZGhP1z4U8CObAhSDJw9y8gvi65915Sx8u1ErMhm2e1Iw9oV5VpM68OhC1HtVMjgmhktA3Ok3fvtmHOFPSumfAnfAYbS0q6zqf7fzzq187uF1SQ32o4FcaMUIG7M04duTOd04xA8u6ugqsb8K7il1KEktFB689t87ZZfB6XZ0joD0wg943qUKJZ9SttBSyrx8P09hhWxa6qa3RMA692O03qz5Sp7X80UJq6xXaPEpA00HrSWiA6xDo4GguPN0hapt8i2fS4j027W66AsmPrc85YsDrv2aS2sJ2LEqxLz9c0264IxJ88L35u49DuXje1V92W1fxy9s7g5r5DJb4TEhlr02Tn11h4iaCXsIrYpAIHmnd9fq75K1Nsx4dgW9CtTD1BZ88YT29ag5arJ8b09Zq16O32jh1wg66MyNpKr1Y3C528K511sSqWK37yu6NS0ekKmLV0Emjs5ay60H1Rpm19m6lzD9MQc8dcjBtH6qYm530H2R0sYm8XOdVl25Yt8U0L8tI77H8Z29A5kuzg37r0K5M4LxSPRHBs4cLI0ABqjhIC0SFx36wHqWQk8d099Ti2x3bA363Z3ttEPe73xTTa1933q9MuB9SSzg1xWX0fTjp7851pczSkMc5zct51J8f7lqa13LOH57s81fjrGv1Vjrqj62x70265332705tmc7Fq3QnDgVt92RsFiS85hED64vm0X33Un33bT5V41L6Knc9IWOW82F3pBMt7486R5ZMGxU0uU0taa99iM7wIi0YDOjcrVlidE9Fpcb1F5k3HQqwP0G4WS740ADmE09zEw9d3xg74dN00xs3i39LMrr653xN4IiZOI6qa2lbMU08v0lx6Am9cd9kzK7xaK72xhM5DRBFqTY1kKZCCDMA78KdYf9id136ijp1G9lhuzI9sIh8c8ENFxR41l7bXLrLyrkEX2LxAAo77gI67q8zfRQuDpR4uhlW3QM7f9CGehZAl3U9wFyY6WOGQEdK9XSoa07iTry11Dxwe02Xt70qkCIa158dOcDshm99aPjNLi11uuTzb4oqcS6JSrt88yA3wrp1L949kyVEC6O3w7x3iAr0xVGCZG07vRI3qP0i25m66M0F9j67FChysXO7N8Ej2mm865I2KD34L3y4ZBL5SuDMydfzokZvh540xYtZW4Jr7KqM34P567997LIolUZXKSB4NP4n7bu76sNL8r8Oz42HE4JPVW14jtAytF8684Qc92bdjRs89Re04BuMz4NnBxjm3B2iqv3WxwL05RR8MiVfXij4WgC068FHa530RS154473PnKX12s0IYfMAf3YKe'"
      ]
     },
     "execution_count": 310,
     "metadata": {},
     "output_type": "execute_result"
    }
   ],
   "source": [
    "data = inf_from_code(ccode,Root)\n",
    "(data)"
   ]
  },
  {
   "cell_type": "code",
   "execution_count": 311,
   "id": "2ae42b97",
   "metadata": {},
   "outputs": [],
   "source": [
    "## how to generate random text\n",
    "import random \n",
    "import string \n",
    "def random_string(letter_count, digit_count):  \n",
    "    str1 = ''.join((random.choice(string.ascii_letters) for x in range(letter_count)))  \n",
    "    str1 += ''.join((random.choice(string.digits) for x in range(digit_count)))  \n",
    "  \n",
    "    sam_list = list(str1) # it converts the string to list.  \n",
    "    random.shuffle(sam_list) # It uses a random.shuffle() function to shuffle the string.  \n",
    "    final_string = ''.join(sam_list)  \n",
    "    return final_string  \n",
    "  \n",
    " "
   ]
  },
  {
   "cell_type": "code",
   "execution_count": 312,
   "id": "18eb71ee",
   "metadata": {},
   "outputs": [
    {
     "data": {
      "text/plain": [
       "'a85T7sTLi568Ep178x6JNc716Q03hE3Y4H5uyu7M4inxs94v33pGFuF704y4A60012247cq738679hlPb7315xOHj0YZg26UyT9I'"
      ]
     },
     "execution_count": 312,
     "metadata": {},
     "output_type": "execute_result"
    }
   ],
   "source": [
    "file = open(\"huffmantext.txt\",\"w\")\n",
    "file.write(random_string(50,50))\n",
    "K = open(\"code.huff\",\"w\")\n",
    "\n",
    "file.close()\n",
    "file = open(\"huffmantext.txt\",\"r\")\n",
    "file.read()\n",
    "\n",
    "\n"
   ]
  },
  {
   "cell_type": "code",
   "execution_count": 313,
   "id": "f6df1951",
   "metadata": {},
   "outputs": [
    {
     "data": {
      "text/plain": [
       "True"
      ]
     },
     "execution_count": 313,
     "metadata": {},
     "output_type": "execute_result"
    }
   ],
   "source": [
    "j = my_Text == data\n",
    "j"
   ]
  },
  {
   "cell_type": "code",
   "execution_count": 314,
   "id": "2a77f623",
   "metadata": {},
   "outputs": [
    {
     "data": {
      "text/plain": [
       "1213"
      ]
     },
     "execution_count": 314,
     "metadata": {},
     "output_type": "execute_result"
    }
   ],
   "source": [
    "data_file = open(\"file12.huff\",'wb')\n",
    "\n",
    "K = [Z,R]\n",
    "#element = string_+ccode\n",
    "data_file.writelines(K)\n",
    "\n",
    "data_file.close()\n",
    "os.path.getsize(\"C:/Users/91709/file12.huff\")\n",
    "\n",
    "       "
   ]
  },
  {
   "cell_type": "code",
   "execution_count": 315,
   "id": "c3678e0f",
   "metadata": {},
   "outputs": [
    {
     "data": {
      "text/plain": [
       "8712"
      ]
     },
     "execution_count": 315,
     "metadata": {},
     "output_type": "execute_result"
    }
   ],
   "source": [
    "A = string_ +'\\n'\n",
    "Z = bytearray(A,\"utf-8\")\n",
    "\n",
    "\n",
    "Len = len(ccode)%8\n",
    "padded_code = ccode + (8-Len)*('0')\n",
    "decomp_code = []\n",
    "for i in range(0,len(padded_code),8) :\n",
    "    N =   str(padded_code[i:i+8])\n",
    "    N = int(N,2)\n",
    "    decomp_code.append(N)\n",
    "len(decomp_code)   \n",
    "R = bytearray(decomp_code)\n",
    "len(padded_code)\n",
    "\n"
   ]
  },
  {
   "cell_type": "code",
   "execution_count": 316,
   "id": "e5f1652b",
   "metadata": {},
   "outputs": [
    {
     "name": "stdout",
     "output_type": "stream",
     "text": [
      "9.0\n"
     ]
    },
    {
     "data": {
      "text/plain": [
       "([0.2222222222222222,\n",
       "  0.2222222222222222,\n",
       "  0.3333333333333333,\n",
       "  0.1111111111111111,\n",
       "  0.1111111111111111],\n",
       " ['e', 'h', 'l', 'o', 'p'])"
      ]
     },
     "execution_count": 316,
     "metadata": {},
     "output_type": "execute_result"
    }
   ],
   "source": [
    "Text = \"hellohelp\"\n",
    "prob_T ,charac_T = list_prob(Text)\n",
    "prob_T,charac_T"
   ]
  },
  {
   "cell_type": "code",
   "execution_count": 317,
   "id": "e59b7e7f",
   "metadata": {},
   "outputs": [],
   "source": [
    "Tree_Arr = '###oph#el'\n",
    "def tree_from_Array(Arr) :\n",
    "    nodelist =[]\n",
    "    j = 0\n",
    "    root = None\n",
    "    nodeflag  = []\n",
    "    for i in range(len(Arr)) :\n",
    "        if Arr[i] == '#' :\n",
    "            nod = Node('#') \n",
    "            \n",
    "            nodeflag.append(2)\n",
    "            if i == 0 :\n",
    "                root = nod \n",
    "                nodelist.append(nod)\n",
    "                \n",
    "            else :\n",
    "                if nodeflag[j] == 2 :\n",
    "                    nodelist[j].left = nod\n",
    "                    nodeflag[j] -= 1\n",
    "                    nodelist.append(nod)\n",
    "                    j += 1\n",
    "                elif nodeflag[j] == 1 :\n",
    "                    nodelist[j].right = nod\n",
    "                    nodeflag[j] -= 1\n",
    "                    nodelist.append(nod)\n",
    "                    j += 1\n",
    "                if nodeflag[j-1] == 0 :\n",
    "                    nodelist.pop(j-1)\n",
    "                    nodeflag.pop(j-1)\n",
    "                    j -= 1\n",
    "                    #if j == 0 :\n",
    "                        #j = 0\n",
    "                    #else :\n",
    "                        #j -= 1\n",
    "        else :\n",
    "            if nodeflag[j] == 2:\n",
    "                node_l = Node(Arr[i])\n",
    "                nodelist[j].left = node_l\n",
    "                nodeflag[j] -= 1\n",
    "            elif nodeflag[j] == 1 :\n",
    "                node_r = Node(Arr[i])\n",
    "                nodelist[j].right = node_r\n",
    "                nodeflag[j] -= 1\n",
    "            if nodeflag[j]  == 0 :\n",
    "                nodelist.pop(j)\n",
    "                nodeflag.pop(j)\n",
    "                if j == 0 :\n",
    "                    j = 0\n",
    "                else :\n",
    "                    j -= 1\n",
    "                \n",
    "     \n",
    "    return root        \n",
    "            \n",
    "                "
   ]
  },
  {
   "cell_type": "code",
   "execution_count": 318,
   "id": "1b3afeb2",
   "metadata": {},
   "outputs": [
    {
     "name": "stdout",
     "output_type": "stream",
     "text": [
      "k\n",
      "p\n",
      "x\n",
      "l\n",
      "W\n",
      "O\n",
      "E\n",
      "Y\n",
      "X\n",
      "R\n",
      "F\n",
      "d\n",
      "L\n",
      "2\n",
      "m\n",
      "f\n",
      "c\n",
      "Z\n",
      "y\n",
      "s\n",
      "e\n",
      "Q\n",
      "D\n",
      "n\n",
      "U\n",
      "K\n",
      "7\n",
      "h\n",
      "I\n",
      "5\n",
      "u\n",
      "r\n",
      "j\n",
      "a\n",
      "6\n",
      "4\n",
      "z\n",
      "A\n",
      "J\n",
      "G\n",
      "i\n",
      "3\n",
      "9\n",
      "1\n",
      "v\n",
      "b\n",
      "M\n",
      "8\n",
      "t\n",
      "S\n",
      "T\n",
      "N\n",
      "V\n",
      "B\n",
      "0\n",
      "w\n",
      "o\n",
      "P\n",
      "C\n",
      "g\n",
      "H\n",
      "q\n"
     ]
    }
   ],
   "source": [
    "Root = tree_from_Array(string_)\n",
    "tree_trav(Root)\n"
   ]
  },
  {
   "cell_type": "code",
   "execution_count": 319,
   "id": "12d9644e",
   "metadata": {},
   "outputs": [
    {
     "name": "stdout",
     "output_type": "stream",
     "text": [
      "0b11\n"
     ]
    },
    {
     "data": {
      "text/plain": [
       "3"
      ]
     },
     "execution_count": 319,
     "metadata": {},
     "output_type": "execute_result"
    }
   ],
   "source": [
    "print(bin(3))\n",
    "j = '11'\n",
    "h = int(j,2)\n",
    "h"
   ]
  },
  {
   "cell_type": "code",
   "execution_count": 320,
   "id": "bc81ea46",
   "metadata": {},
   "outputs": [],
   "source": [
    "def decompress_(compressed_file) :\n",
    "    file =  open(compressed_file,'rb')\n",
    "    lines = []\n",
    "    lines_ = file.readlines()\n",
    "    #for line in file :\n",
    "        #lines.append(line.strip())\n",
    "    #file.close() \n",
    "    print(os.path.getsize(\"C:/Users/91709/file12.huff\"))\n",
    "    \n",
    "    tree_code = lines_[0][:-1].decode()\n",
    "    #print(len(tree_code))\n",
    "    #print((lines_))\n",
    "    code_string = ''\n",
    "    total_code = lines_[1]\n",
    "    for i in range(2,len(lines_)) :\n",
    "        total_code += (lines_[i])\n",
    "    print(total_code) \n",
    "    print(len(total_code))\n",
    "    print(lines_[0][:-1])\n",
    "    for i in range(len(total_code)) :\n",
    "        j = bin(total_code[i])[2:]\n",
    "        required_bits = 8 - len(j)\n",
    "        j = required_bits*'0' + j\n",
    "        code_string += j\n",
    "    #print((code_string))    \n",
    "    #print((total_code) )   \n",
    "    \n",
    "    #code_string = lines[1]\n",
    "    #print(code_string)\n",
    "    #print(len(code_string))\n",
    "    #original_code = ''\n",
    "    #for i in range(len(code_string)) :\n",
    "        #j = bin(code_string[i])[2:]\n",
    "        #required_bits = 8 - len(j)\n",
    "        #j = required_bits*'0'+ j\n",
    "        #original_code += j\n",
    "    Tree = tree_from_Array(tree_code)\n",
    "    original_text = inf_from_code(code_string,Tree)\n",
    "    \n",
    "    return original_text\n",
    "        \n",
    "        \n",
    "        "
   ]
  },
  {
   "cell_type": "code",
   "execution_count": 321,
   "id": "eb2ae19c",
   "metadata": {},
   "outputs": [
    {
     "name": "stdout",
     "output_type": "stream",
     "text": [
      "1213\n",
      "b'\\x03&\\xaa\\xbei\\x0c\\xb2\\x97\\xf8\\x9e\\x7fc\\x9aumI\\x1eb\\xd7\\x96\\x8b[\\xf0!\\xc4\\xd7\\x80T%\\xf0l|{\\xf2\\xb7\\x14\\t\\x03\\xb1\\xder\\xc7\\x93\\xd0\\xc9\\x98M<\\xf8\\x13\\x00~E\\xc5\\xc0\\xd7\\xff_\\x18(\\xa8^K\\x95\\x81\\x17\\xfb\\x93n\\xa9\\xfd\\x13\\\\\\xe5EX$-\\xef\\xfd\\xeb\\xa6\\xd0\\xb24\\x98[ia\\xd9\\xc8\\xe4\\x16\\xa5\\x17d\\x8d:\\x95G\\xcd\\x83\\xf7o\\x9a\\xe5\\xe5E1\\xae\"#\\x81\\xf2t\\xea\\xe3~\\xe7-m\\xd2L\\x01w\\xfeS\\xdc\\xd2u\\\\\\xf5\\x8a&\\xc7^\\xc6\\xcbK\\x9b\\xafS\\xc5\\xd4\\xd7\\xcc\\x95\\xc9\\xf7\\xc3\\xf7\\x0e\\xa0\\xc0\\xf0\\xe6\\xe2\\x07Y\\x87|_\\xcf\\'\\xf2\\x079hg=\\xe3\\xee\\xdc\\xb3\\x8b\\xe2\\x0e\\x01\\xb56\\x18\\x0b#\\x93d>\\x8c_\\xad\\xe0A\\x1aX#I\\x19w\\xef\\xf2\\xa3\\xf4Z\\x8d\\x14\\x7f\\x8d6\\x02\\xf1\\xba\\xdb\\x1f\\xcc\\xcbJ<\\xd8\\xbbU\\xb9\\xf6fA\\xc0c;0\\xd3\\xa8%\\x07\\xcf\\xd5\\xcb\\xa6[X\\x98dp6/\\x9c\\xb5}\\xb4\\xd4\\xd3G\\x9c\\x89O\\xb1y_\\xbe>^v\\xfd\\x8b5\\x13\\xbe\\xfbm\\xcfu!\\x0e\\xbdv\\xee8(c\\x97\\xf1\\xd8\\xac\\xe9\\x95\\xce7m\\xfd\\x0f\\xdc\\x16\\x93\\xae\\xb1\\xa9\\xfc\\x82L~\\x87\\x06\\x9e\\xf7\\xec;\\x8b]2\\n\\xfegW\\xe4\\x1e\\xb8\\xf5\\xc8\\xc1\\xdbU\\x9d\\x1d\\xe7\\x17N\\xd1e*UC\\xd4)i\\xe4*\\xbc9\\x0f\\x1e\\xe7V\\xa1\\xcd\\x1f\\xf0\\x9bE\\xd2\\xe9\\xe57CSZ6\\xcf\\x82w^\\x02bY\\x8eW8\\xb8D*]V\\xfc|/^\\xa6Y\\xf0\\x1d\\xc1!\\xe9\\xf80\\xc6\\x1c\\x9dq\\xfb%Wa \\x1a]\\xfa\\x83\\x03.\\x8f\\xed{8\\xe2\\xa8fg\\xc1o\\xefn\\x0b\\xe3\\x9az\\xd1\\x1c\\x0fx\\xfe>8jk/n\\x9f\\xf8\\x90\\xd6<Nc\\xc7\\xc9K58\\x82\\xcc8\"\\xde\\xde}2\\xfca]\\xff\\x15\\x9b5H%\\xc7~\\xac\\x01\\x94\\r\\xe5\\xd1\\xd0\\x89W\\xc6\\xa4\\xbb\\xf7\\x05\\x02\\x86.\\x84\\x84\\xa1{\\xe6\\xb5-\\x18\\x94\\\\\\xf6\\xfb/\\xc8A\\xf6\\xef\\xd3\\x95\\xd5HCD\\x8cg!\\x0e\\xf26\\xd3\\x1e\\x9b\\xad\\x9dk~\\xe93\\xde\\x97\\x81\\x05\\x1f,\\xd8z\\xcb\\xf3\\x99\\xa1\\xdf\\xd1_y\\xab4\\x8dw\\xb4\\xf3\\xfe\\'\\x1d\\xf7\\xdd\\xcb\\r\\xa5\\xe3\\xef\\xe2\\xad\\x03Fv\\xf7\\xe1Y\\xc3l\\xb4\\xdaVN\\xdbl?\\xa5\\x8d\\xb0xp\\x8f\\x17\\xb5\\xbf\\xbeps\\xbe\\xfb\\xd1\\xf3\\x01\\x14\\x9e\\xa3\\xc2 [\\xa7\\xe0\\x14\\xa8\\xdc\\x0c\\xd2}\\tl\\xfcT\\xd2-\\x13\\xf8\\xf1cF\\xfa\\xf6\\xab\\xac#\\x145rc\\x94P\\xff\\x14\\x8e\\x16\\xf4\\xf2}\\xacv\\xf5\\xfb \\x93K\\xfe\\xcbX/\\xf3\\x96\\xd79J\\x97^\\xfa{\\x83\\xaf)\\xe4C\\xa4\\xda\\xccXZ\\xd9x?\\x94\\xf0l\\x99`\\x95\\xdd\\x14atr\\xec\\x0f<\\xf6l\\xf5\"\\x9e\\x9euB\\xc7\\xb01\\xee\\xd1\\xc7{\\xd7\\x9b|;_H\\\\h\\x92\\x87\\x90\\x95\\x98=\\xcb\\x05,\\xb8-\\xe0[\\xea\\xdf\\xfcz\\xedY\\x8b\\xbbg\\xdaW@~\\xde\\x81\\xfc\\\\\\xcb\\x07\\xe3fg\\x1e\\xf4*\\xda\\xbb\\\\\\xdc\\xe1\\x86O\\xb0x\\xcd\\xda\\xd3\\x19\\xd9\\x7f\\x19\\xc4\\xcb\\x9b\\x1e\\xeb\\'D\\x0c\\xa9B\\xe9\\x19p(e\\xa1\\x8d\\x96\\x9c.f\\xf5\\xca\\xe6_\\xfc\\x08\\xc0\\x0c\\xa7\\xef\\xda\\xf9\\xd2\\xdd2a\\x08\\xde\\xb31iW\\x108\\xabq\\x1c\\x82\\x87n\\xab\\xaei-\\x0f\\xc4\\xb0\\x95<\\x08\\xdc\\xa4\\x9b\\t\\xaaB\\x00\\xe4\\x9c\\xd0\\xd3O\\x96\\xb7\\xe3\\xb2o\\xfa\\xa1\\x12\\x96\\xc0\\xb8%N\\x07\\x04\\x16\\xcbsj7\\xf7Uc\\x89\\xd2%\\x98\\xdf\\xc1j\\x11!F\\xaa\\xb4s\\x19\\xb9;\\xf9\\x8f\\xad\\xaf\\x84*c\\x0b\\x87\\xc2\\xce\\x9c\\x9d\\x9b\\xdf\\xc0\\xf6\\xecx~\\x8c\\x19%\\xd5q\\x0b\\xde?Qq6\\xbcb\\x088Q\\x96~\\x7fKyT\\xde\\x1d\\xb5\\xa5)\\xb7\\x88A\\xc1\\xb7\\x9d\\xc0S\\x90\\xfe\\xe45\\xbc46\\xae\\x98z\\x1eU}\\xa7W\\xad\\xc8S\\xb6\\xff\\xd7k;\\xd0\\x94\\xb3\\xe9w\\x8aM/\\xdb\\x8a*H\\xcd\\xe3\\xa1\\xe2:\\x08jOt\\xec\\xafi\\x9be&\\x9f3_\\xbc\\x0b\\xe6\\xa1\\x88\\xd1\\xe4\\x04\\xf28\\xf9\\xf4$l\\x98\\xb3\\xa9\\x0bY\\xff;O\\xd3\\xe4\\xdb\\xdd\\xa6\\xbb\\xe4F)\\x92\\xce\\xfc\\xe7\\xc7\\xd4\\xd87,\\r\\x92\\xbcM\\xd4:\\x1a\\x89\\x9f\\xe8\\xf3\\xa9\\xeb\\x90\\xb8\\x9c[R\\xa6\\xc5\\xeaZ\\x9a\\xd4\\xae|\\xa6DR\\xba\\xb9K;>pgD\\xf8\\xb0\\xe6\\x18\\x90\\xb73\\xd7\\xfeK\\n\\x1f\\x06\\xf5\\xe5\\x15\\xac\\xeb\\xe4\\x895\\xc51~{\\xec\\xb4_\\xd8\\xdfn\\x95\\xbe\\x1f9\\xb6\\xde\\x982N\\x0e\\xaf]!\\x1c\\xe9F\\xc42\\xb0'\n",
      "1089\n",
      "b'######kpx##lW#OE###YX#RF##dL2####mf#cZ##ys##eQD####nUK7##hI5#####ur#ja#64###zA##JGi#39###1##vbM#8#tS####TN#VB0###wo#PC##gHq'\n"
     ]
    },
    {
     "data": {
      "text/plain": [
       "True"
      ]
     },
     "execution_count": 321,
     "metadata": {},
     "output_type": "execute_result"
    }
   ],
   "source": [
    "defile = 'file12.huff'\n",
    "words = decompress_(defile)\n",
    "S = words == my_Text\n",
    "S\n",
    "\n"
   ]
  },
  {
   "cell_type": "code",
   "execution_count": 322,
   "id": "4bf2a871",
   "metadata": {},
   "outputs": [
    {
     "data": {
      "text/plain": [
       "8710"
      ]
     },
     "execution_count": 322,
     "metadata": {},
     "output_type": "execute_result"
    }
   ],
   "source": [
    "len(ccode)"
   ]
  },
  {
   "cell_type": "code",
   "execution_count": 323,
   "id": "e2fa42e9",
   "metadata": {},
   "outputs": [
    {
     "data": {
      "text/plain": [
       "bytearray(b'\\x01\\x02\\x03\\x04,\\x03R\"\\x0c')"
      ]
     },
     "execution_count": 323,
     "metadata": {},
     "output_type": "execute_result"
    }
   ],
   "source": [
    "Q = [1,2,3,4,44,3]\n",
    "Q1 = bytearray(Q)\n",
    "R = [82,34,12]\n",
    "R1 = bytearray(R)\n",
    "V = Q1 +R1\n",
    "V"
   ]
  },
  {
   "cell_type": "code",
   "execution_count": 28,
   "id": "1ae58b45",
   "metadata": {},
   "outputs": [],
   "source": [
    "from sklearn.datasets import fetch_olivetti_faces\n",
    "from PIL import Image\n",
    "import matplotlib.pyplot as plt\n",
    "import numpy as np\n"
   ]
  },
  {
   "cell_type": "code",
   "execution_count": 35,
   "id": "b3acf4e4",
   "metadata": {},
   "outputs": [
    {
     "ename": "TypeError",
     "evalue": "only size-1 arrays can be converted to Python scalars",
     "output_type": "error",
     "traceback": [
      "\u001b[1;31m---------------------------------------------------------------------------\u001b[0m",
      "\u001b[1;31mTypeError\u001b[0m                                 Traceback (most recent call last)",
      "Input \u001b[1;32mIn [35]\u001b[0m, in \u001b[0;36m<cell line: 5>\u001b[1;34m()\u001b[0m\n\u001b[0;32m      3\u001b[0m k \u001b[38;5;241m=\u001b[39m data\u001b[38;5;241m.\u001b[39mshape\n\u001b[0;32m      4\u001b[0m j \u001b[38;5;241m=\u001b[39m data[\u001b[38;5;241m0\u001b[39m]\n\u001b[1;32m----> 5\u001b[0m \u001b[38;5;28;43mint\u001b[39;49m\u001b[43m(\u001b[49m\u001b[43mj\u001b[49m\u001b[43m)\u001b[49m\n",
      "\u001b[1;31mTypeError\u001b[0m: only size-1 arrays can be converted to Python scalars"
     ]
    }
   ],
   "source": [
    "olivetti = fetch_olivetti_faces()\n",
    "data = olivetti.data\n",
    "k = data.shape\n",
    "j = data[0]\n",
    "j #= j.reshape([64,64])\n",
    "#img = Image.fromarray((j*255).astype(np.uint8))\n",
    "#j.save(\"file1.bmp\")\n",
    "#bmp_img = Image.open(\"file1.bmp\")\n"
   ]
  },
  {
   "cell_type": "code",
   "execution_count": 53,
   "id": "2280a0ae",
   "metadata": {},
   "outputs": [
    {
     "data": {
      "text/plain": [
       "(64, 64, 3)"
      ]
     },
     "execution_count": 53,
     "metadata": {},
     "output_type": "execute_result"
    },
    {
     "data": {
      "image/png": "[encoded data removed]",
      "text/plain": [
       "<Figure size 432x288 with 1 Axes>"
      ]
     },
     "metadata": {
      "needs_background": "light"
     },
     "output_type": "display_data"
    }
   ],
   "source": [
    "from PIL import Image\n",
    "import numpy as np\n",
    "from sklearn.datasets import fetch_olivetti_faces\n",
    "\n",
    "# Load the Olivetti Faces dataset\n",
    "faces = fetch_olivetti_faces()\n",
    "X = faces.data\n",
    "\n",
    "# Select the first image\n",
    "image_data = (255*X[0]).astype(np.uint8)\n",
    "\n",
    "# Reshape the image data into a 64x64 array of integers\n",
    "image_array = np.reshape(image_data, (64, 64))\n",
    "\n",
    "# Create an empty BMP image\n",
    "bmp_image = Image.new(\"RGB\", (64, 64))\n",
    "\n",
    "# Write the pixel values to the BMP image\n",
    "for y in range(64):\n",
    "    for x in range(64):\n",
    "        pixel_value = int(image_array[y][x])\n",
    "        bmp_image.putpixel((x, y), (pixel_value, pixel_value, pixel_value))\n",
    "\n",
    "# Save the BMP image to a file\n",
    "bmp_image.save(\"olivetti_face_0.bmp\")\n",
    "\n",
    "im = np.array(Image.open(\"olivetti_face_0.bmp\"))\n",
    "plt.imshow(im*[1,1,1])\n",
    "im.shape"
   ]
  },
  {
   "cell_type": "code",
   "execution_count": null,
   "id": "36292c9c",
   "metadata": {},
   "outputs": [],
   "source": [
    "A = np.array"
   ]
  }
 ],
 "metadata": {
  "kernelspec": {
   "display_name": "Python 3 (ipykernel)",
   "language": "python",
   "name": "python3"
  },
  "language_info": {
   "codemirror_mode": {
    "name": "ipython",
    "version": 3
   },
   "file_extension": ".py",
   "mimetype": "text/x-python",
   "name": "python",
   "nbconvert_exporter": "python",
   "pygments_lexer": "ipython3",
   "version": "3.9.12"
  }
 },
 "nbformat": 4,
 "nbformat_minor": 5
}
